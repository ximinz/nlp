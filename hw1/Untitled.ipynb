{
 "cells": [
  {
   "cell_type": "code",
   "execution_count": 5,
   "metadata": {},
   "outputs": [],
   "source": [
    "import pdb"
   ]
  },
  {
   "cell_type": "code",
   "execution_count": 13,
   "metadata": {},
   "outputs": [],
   "source": [
    "def teststring():\n",
    "    pdb.set_trace()\n",
    "    bc = \"This is a string\"\n",
    "    cd = \" Take-chan\"\n",
    "    ef = bc + cd"
   ]
  },
  {
   "cell_type": "code",
   "execution_count": null,
   "metadata": {},
   "outputs": [
    {
     "name": "stdout",
     "output_type": "stream",
     "text": [
      "> <ipython-input-13-5cb9d55e6868>(3)teststring()\n",
      "-> bc = \"This is a string\"\n",
      "(Pdb) n\n",
      "> <ipython-input-13-5cb9d55e6868>(4)teststring()\n",
      "-> cd = \" Take-chan\"\n",
      "(Pdb) n\n",
      "> <ipython-input-13-5cb9d55e6868>(5)teststring()\n",
      "-> ef = bc + cd\n",
      "(Pdb) p ef\n",
      "*** NameError: name 'ef' is not defined\n",
      "(Pdb) n\n",
      "--Return--\n",
      "> <ipython-input-13-5cb9d55e6868>(5)teststring()->None\n",
      "-> ef = bc + cd\n",
      "(Pdb) p ef\n",
      "'This is a string Take-chan'\n",
      "(Pdb) len(ef)\n",
      "26\n",
      "(Pdb) ef = \"Take - chan\"\n",
      "(Pdb) p ef\n",
      "'Take - chan'\n"
     ]
    }
   ],
   "source": [
    "teststring()"
   ]
  },
  {
   "cell_type": "code",
   "execution_count": null,
   "metadata": {},
   "outputs": [],
   "source": []
  }
 ],
 "metadata": {
  "kernelspec": {
   "display_name": "Python 3",
   "language": "python",
   "name": "python3"
  },
  "language_info": {
   "codemirror_mode": {
    "name": "ipython",
    "version": 3
   },
   "file_extension": ".py",
   "mimetype": "text/x-python",
   "name": "python",
   "nbconvert_exporter": "python",
   "pygments_lexer": "ipython3",
   "version": "3.7.0"
  }
 },
 "nbformat": 4,
 "nbformat_minor": 2
}
