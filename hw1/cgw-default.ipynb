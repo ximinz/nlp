{
 "cells": [
  {
   "cell_type": "markdown",
   "metadata": {},
   "source": [
    "# Homework: Competitive Grammar Writing"
   ]
  },
  {
   "cell_type": "markdown",
   "metadata": {},
   "source": [
    "## Development of S1.gr\n",
    "\n",
    "To develop S1.gr which would be used to generate grammars, the base output that we would want from _S1.gr_ would be to output sentences that are potentially difficult for other teams to parse. To do this, it was decided that a \n",
    "custom grammar should be written from scratch to generate these. As a custom grammar would not be able to be developed rigidly in little time, it would likely be able to generate weird sentences.\n",
    "\n",
    "Using this approach in mind, S1.gr was developed completely custom by hand. To develop _S1.gr_, it was decided that **example_sentences.txt** would be the baseline used when developing _S1.gr_. \n",
    "\n",
    "When developing _S1.gr_, the main approach used was a recursive approach, in which every \"appropriate\" sentence would be defined as a **_Phrase_** and everything else would be a bunch of **_Phrase_** constructs recursively joined together. \n",
    "\n",
    "In example, lets take a look at a sentence from **example_sentences.txt**:\n",
    "\n",
    "> Arthur will have been riding for eight nights .\n",
    "\n",
    "Over here, the phrase,\n",
    "\n",
    "> riding for eight nights .\n",
    "\n",
    "Is a valid sentence and could very well be generated to be passed off as a regular sentence. As such, it should register as a **_Phrase_** construct. Moving on, the beginning of the sentence,\n",
    "\n",
    "> Arthur will have been\n",
    "\n",
    "Is also a valid phrase in some contexts of English. As a result, it will also be registered as a **_Phrase_** construct. Due to this, a construct that manually joins two **_Phrase_** constructs was also made, which is called a **_ComplexPhrase_** construct.\n",
    "\n",
    "_Note: all \"constructs\" are essentially Non-Terminal rules._\n",
    "\n",
    "### Handling Conjunctions\n",
    "\n",
    "Due to already taking the approach of wanting to recursively define each valid part of a sentence as a construct in order to recursively parse a sentence, the next question would be what of conjunctions?\n",
    "\n",
    "Let us consider another sentence from **example_sentences.txt**:\n",
    "\n",
    "> Arthur rode and drank from his chalice .\n",
    "\n",
    "Following the previous logic laid out, one might expect to parse \n",
    "\n",
    "> Arthur rode\n",
    "\n",
    "and \n",
    "\n",
    "> drank from his chalice\n",
    "\n",
    "as **_Phrase_** constructs joined by a conjunction. However, doing so would give problems as conjunctions can be used arbitrarily many times in a sentence. As a result, with our current approach, we would end up having to define _arbitrarily many layers of_ **_ComplexPhrase_** _constructs in order to parse such sentences._ As a result, we take a different approach, which is by making a rule/construct that takes in a form of _(conjunction) (Phrase)_. \n",
    "\n",
    "This rule is defined as **_APhrase_** in _S1.gr_. What we essentially do is that we expand a **_Phrase_** to be able to take in a subphrase and any sort of **_APhrase_**. As a result, we will be able to parse arbitrarily many conjunctions as possible as they would all just be registered as **_APhrase_** constructs.\n",
    "\n",
    "### How about the rest of grammar constructs that are too minor to be phrases?\n",
    "\n",
    "The rest of the constructs were made as per sentences in **example_sentences.txt**. As we based the custom grammar off the file, we made all the necessary constructs into _Non-Terminals_ that **_Phrase_** would consume in some form or manner. \n",
    "\n",
    "Examples of these would be constructs like \n",
    "\n",
    "> ...from his...\n",
    "\n",
    "> ...for eight nights...\n",
    "\n",
    "and so on. These are all tinier frequently-used constructs in the form of grammar rules like _(Preposition)(Pronoun)_ etc"
   ]
  },
  {
   "cell_type": "markdown",
   "metadata": {},
   "source": []
  },
  {
   "cell_type": "markdown",
   "metadata": {},
   "source": []
  },
  {
   "cell_type": "markdown",
   "metadata": {},
   "source": []
  },
  {
   "cell_type": "markdown",
   "metadata": {},
   "source": []
  },
  {
   "cell_type": "markdown",
   "metadata": {},
   "source": []
  },
  {
   "cell_type": "markdown",
   "metadata": {},
   "source": []
  },
  {
   "cell_type": "markdown",
   "metadata": {},
   "source": []
  }
 ],
 "metadata": {
  "kernelspec": {
   "display_name": "Python 3",
   "language": "python",
   "name": "python3"
  },
  "language_info": {
   "codemirror_mode": {
    "name": "ipython",
    "version": 3
   },
   "file_extension": ".py",
   "mimetype": "text/x-python",
   "name": "python",
   "nbconvert_exporter": "python",
   "pygments_lexer": "ipython3",
   "version": "3.7.0"
  }
 },
 "nbformat": 4,
 "nbformat_minor": 2
}
