{
 "cells": [
  {
   "cell_type": "markdown",
   "metadata": {},
   "source": [
    "# Homework: Competitive Grammar Writing"
   ]
  },
  {
   "cell_type": "code",
   "execution_count": 2,
   "metadata": {},
   "outputs": [],
   "source": [
    "from pcfg_parse_gen import Pcfg, PcfgGenerator, CkyParse\n",
    "import nltk\n",
    "\n",
    "def print_tree(tree_string):\n",
    "    tree_string = tree_string.strip()\n",
    "    tree = nltk.Tree.fromstring(tree_string)\n",
    "    tree.pretty_print()\n",
    "\n",
    "def draw_tree(tree_string):\n",
    "    tree_string = tree_string.strip()\n",
    "    tree = nltk.Tree.fromstring(tree_string)\n",
    "    tree.draw()"
   ]
  },
  {
   "cell_type": "markdown",
   "metadata": {},
   "source": [
    "## Parsing sentences with your grammar\n",
    "\n",
    "While you are developing your grammar you should parse with your grammar both example sentences and samples from your and other grammars."
   ]
  },
  {
   "cell_type": "code",
   "execution_count": 2,
   "metadata": {},
   "outputs": [
    {
     "name": "stderr",
     "output_type": "stream",
     "text": [
      "#reading grammar file: S1.gr\n",
      "#reading grammar file: S2.gr\n",
      "#reading grammar file: Vocab.gr\n"
     ]
    }
   ],
   "source": [
    "parse_gram = Pcfg([\"S1.gr\",\"S2.gr\",\"Vocab.gr\"])"
   ]
  },
  {
   "cell_type": "code",
   "execution_count": 3,
   "metadata": {},
   "outputs": [
    {
     "name": "stdout",
     "output_type": "stream",
     "text": [
      "(TOP (S1 (NP (Proper Arthur) ) (_VP (VP (VerbT is) (NP (Det the) (Nbar (Noun king) ))) (Punc .))) )\n",
      "-cross entropy: -3.7863679540999504\n",
      "             TOP              \n",
      "              |                \n",
      "              S1              \n",
      "   ___________|___             \n",
      "  |              _VP          \n",
      "  |            ___|________    \n",
      "  |           VP           |  \n",
      "  |       ____|___         |   \n",
      "  |      |        NP       |  \n",
      "  |      |     ___|___     |   \n",
      "  NP     |    |      Nbar  |  \n",
      "  |      |    |       |    |   \n",
      "Proper VerbT Det     Noun Punc\n",
      "  |      |    |       |    |   \n",
      "Arthur   is  the     king  .  \n",
      "\n"
     ]
    },
    {
     "name": "stderr",
     "output_type": "stream",
     "text": [
      "#parsing: ['Arthur', 'is', 'the', 'king', '.']\n",
      "#-cross entropy (bits/word): -3.78637\n"
     ]
    }
   ],
   "source": [
    "parser = CkyParse(parse_gram, beamsize=0.00001)\n",
    "ce, trees = parser.parse_sentences([\"Arthur is the king .\"])\n",
    "print(\"-cross entropy: {}\".format(ce))\n",
    "for tree_string in trees:\n",
    "    print_tree(tree_string)"
   ]
  },
  {
   "cell_type": "code",
   "execution_count": 4,
   "metadata": {},
   "outputs": [
    {
     "name": "stdout",
     "output_type": "stream",
     "text": [
      "(TOP (S2 (_Misc (Misc five) (_Misc (Misc strangers) (_Misc (Misc are) (_Prep (Prep at) (_Det (Det the) (_Misc (Misc (_Round Round) (_Table Table)) (_Misc (Misc .) ))))))) ) )\n",
      "-cross entropy: -9.807330330570931\n",
      "        TOP                                             \n",
      "         |                                               \n",
      "         S2                                             \n",
      "         |                                               \n",
      "       _Misc                                            \n",
      "  _______|_______                                        \n",
      " |             _Misc                                    \n",
      " |        _______|__________                             \n",
      " |       |                _Misc                         \n",
      " |       |        __________|_____                       \n",
      " |       |       |              _Prep                   \n",
      " |       |       |     ___________|_____                 \n",
      " |       |       |    |                _Det             \n",
      " |       |       |    |      ___________|_____           \n",
      " |       |       |    |     |               _Misc       \n",
      " |       |       |    |     |            _____|______    \n",
      " |       |       |    |     |          Misc        _Misc\n",
      " |       |       |    |     |      _____|_____       |   \n",
      "Misc    Misc    Misc Prep  Det  _Round      _Table  Misc\n",
      " |       |       |    |     |     |           |      |   \n",
      "five strangers  are   at   the  Round       Table    .  \n",
      "\n"
     ]
    },
    {
     "name": "stderr",
     "output_type": "stream",
     "text": [
      "#parsing: ['five', 'strangers', 'are', 'at', 'the', 'Round', 'Table', '.']\n",
      "#-cross entropy (bits/word): -9.80733\n"
     ]
    }
   ],
   "source": [
    "ce, trees = parser.parse_sentences([\"five strangers are at the Round Table .\"])\n",
    "print(\"-cross entropy: {}\".format(ce))\n",
    "for tree_string in trees:\n",
    "    print_tree(tree_string)"
   ]
  },
  {
   "cell_type": "markdown",
   "metadata": {},
   "source": [
    "Use `parse_file` to parse a file of sentences."
   ]
  },
  {
   "cell_type": "code",
   "execution_count": 5,
   "metadata": {},
   "outputs": [
    {
     "name": "stdout",
     "output_type": "stream",
     "text": [
      "(TOP (S1 (NP (Proper Arthur) ) (_VP (VP (VerbT is) (NP (Det the) (Nbar (Noun king) ))) (Punc .))) )\n",
      "(TOP (S1 (NP (Proper Arthur) ) (_VP (VP (VerbT rides) (NP (Det the) (Nbar (Nbar (Noun horse) ) (PP (Prep near) (NP (Det the) (Nbar (Noun castle) )))))) (Punc .))) )\n",
      "(TOP (S2 (_Misc (Misc riding) (_Misc (Misc to) (_Misc (Misc Camelot) (_VerbT (VerbT is) (_Misc (Misc hard) (_Misc (Misc .) )))))) ) )\n",
      "(TOP (S2 (_Misc (Misc do) (_Misc (Misc coconuts) (_Misc (Misc speak) (_Misc (Misc ?) )))) ) )\n",
      "(TOP (S2 (_Misc (Misc what) (_Misc (Misc does) (_Proper (Proper Arthur) (_Misc (Misc ride) (_Misc (Misc ?) ))))) ) )\n",
      "(TOP (S2 (_Misc (Misc who) (_Misc (Misc does) (_Proper (Proper Arthur) (_Misc (Misc suggest) (_Misc (Misc she) (_Misc (Misc carry) (_Misc (Misc ?) ))))))) ) )\n",
      "(TOP (S2 (_Misc (Misc why) (_Misc (Misc does) (_Misc (Misc England) (_Misc (Misc have) (_Det (Det a) (_Noun (Noun king) (_Misc (Misc ?) ))))))) ) )\n",
      "(TOP (S2 (_Misc (Misc are) (_Misc (Misc they) (_Misc (Misc suggesting) (_Proper (Proper Arthur) (_Misc (Misc ride) (_Misc (Misc to) (_Misc (Misc Camelot) (_Misc (Misc ?) )))))))) ) )\n",
      "(TOP (S2 (_Misc (Misc five) (_Misc (Misc strangers) (_Misc (Misc are) (_Prep (Prep at) (_Det (Det the) (_Misc (Misc (_Round Round) (_Table Table)) (_Misc (Misc .) ))))))) ) )\n",
      "(TOP (S2 (_Proper (Proper Guinevere) (_Misc (Misc might) (_Misc (Misc have) (_Misc (Misc known) (_Misc (Misc .) ))))) ) )\n",
      "(TOP (S2 (_Proper (Proper Guinevere) (_Misc (Misc should) (_Misc (Misc be) (_Misc (Misc riding) (_Prep (Prep with) (_Proper (Proper Patsy) (_Misc (Misc .) ))))))) ) )\n",
      "(TOP (S2 (_Misc (Misc it) (_VerbT (VerbT is) (_Proper (Proper (_Sir Sir) (_Lancelot Lancelot)) (_Misc (Misc who) (_Misc (Misc knows) (_Proper (Proper Zoot) (_Misc (Misc !) ))))))) ) )\n",
      "(TOP (S2 (_Misc (Misc either) (_Proper (Proper Arthur) (_Misc (Misc knows) (_Misc (Misc or) (_Proper (Proper Patsy) (_Misc (Misc does) (_Misc (Misc .) ))))))) ) )\n",
      "(TOP (S2 (_Misc (Misc neither) (_Proper (Proper (_Sir Sir) (_Lancelot Lancelot)) (_Misc (Misc nor) (_Proper (Proper Guinevere) (_Misc (Misc will) (_Misc (Misc speak) (_Prep (Prep of) (_Misc (Misc it) (_Misc (Misc .) ))))))))) ) )\n",
      "(TOP (S2 (_Det (Det the) (_Misc (Misc (_Holy Holy) (_Grail Grail)) (_Misc (Misc was) (_Misc (Misc covered) (_Prep (Prep by) (_Det (Det a) (_Misc (Misc yellow) (_Noun (Noun fruit) (_Misc (Misc .) ))))))))) ) )\n",
      "(TOP (S2 (_Proper (Proper Zoot) (_Misc (Misc might) (_Misc (Misc have) (_Misc (Misc been) (_Misc (Misc carried) (_Prep (Prep by) (_Det (Det a) (_Noun (Noun swallow) (_Misc (Misc .) ))))))))) ) )\n",
      "(TOP (S2 (_Proper (Proper Arthur) (_Misc (Misc rode) (_Misc (Misc to) (_Misc (Misc Camelot) (_Misc (Misc and) (_Misc (Misc drank) (_Prep (Prep from) (_Misc (Misc his) (_Noun (Noun chalice) (_Misc (Misc .) )))))))))) ) )\n",
      "(TOP (S2 (_Misc (Misc they) (_Misc (Misc migrate) (_Misc (Misc precisely) (_Misc (Misc because) (_Misc (Misc they) (_Misc (Misc know) (_Misc (Misc they) (_Misc (Misc will) (_Misc (Misc grow) (_Misc (Misc .) )))))))))) ) )\n",
      "(TOP (S2 (_Misc (Misc do) (_Misc (Misc not) (_Misc (Misc speak) (_Misc (Misc !) )))) ) )\n",
      "(TOP (S2 (_Proper (Proper Arthur) (_Misc (Misc will) (_Misc (Misc have) (_Misc (Misc been) (_Misc (Misc riding) (_Prep (Prep for) (_Misc (Misc eight) (_Misc (Misc nights) (_Misc (Misc .) ))))))))) ) )\n",
      "(TOP (S2 (_Proper (Proper Arthur) (_Misc (Misc ,) (_Misc (Misc sixty) (_Misc (Misc inches) (_Misc (Misc ,) (_VerbT (VerbT is) (_Det (Det a) (_Misc (Misc tiny) (_Noun (Noun king) (_Misc (Misc .) )))))))))) ) )\n",
      "(TOP (S2 (_Proper (Proper Arthur) (_Misc (Misc knows) (_Proper (Proper Patsy) (_Misc (Misc ,) (_Det (Det the) (_Misc (Misc trusty) (_Noun (Noun servant) (_Misc (Misc .) )))))))) ) )\n",
      "(TOP (S2 (_Proper (Proper Arthur) (_Misc (Misc and) (_Proper (Proper Guinevere) (_Misc (Misc migrate) (_Misc (Misc frequently) (_Misc (Misc .) )))))) ) )\n",
      "(TOP (S2 (_Misc (Misc he) (_Misc (Misc knows) (_Misc (Misc what) (_Misc (Misc they) (_Misc (Misc are) (_Misc (Misc covering) (_Prep (Prep with) (_Det (Det that) (_Noun (Noun story) (_Misc (Misc .) )))))))))) ) )\n",
      "(TOP (S2 (_Proper (Proper Arthur) (_Misc (Misc suggested) (_Det (Det that) (_Det (Det the) (_Noun (Noun castle) (_Misc (Misc be) (_Misc (Misc carried) (_Misc (Misc .) )))))))) ) )\n",
      "(TOP (S2 (_Det (Det the) (_Noun (Noun king) (_Misc (Misc drank) (_Misc (Misc to) (_Det (Det the) (_Noun (Noun castle) (_Det (Det that) (_Misc (Misc was) (_Misc (Misc his) (_Noun (Noun home) (_Misc (Misc .) ))))))))))) ) )\n",
      "(TOP (S2 (_Misc (Misc when) (_Det (Det the) (_Noun (Noun king) (_VerbT (VerbT drinks) (_Misc (Misc ,) (_Proper (Proper Patsy) (_VerbT (VerbT drinks) (_Misc (Misc .) )))))))) ) )\n",
      "-cross entropy: -10.276152770660259\n"
     ]
    },
    {
     "name": "stderr",
     "output_type": "stream",
     "text": [
      "#parsing: ['Arthur', 'is', 'the', 'king', '.']\n",
      "#parsing: ['Arthur', 'rides', 'the', 'horse', 'near', 'the', 'castle', '.']\n",
      "#parsing: ['riding', 'to', 'Camelot', 'is', 'hard', '.']\n",
      "#parsing: ['do', 'coconuts', 'speak', '?']\n",
      "#parsing: ['what', 'does', 'Arthur', 'ride', '?']\n",
      "#parsing: ['who', 'does', 'Arthur', 'suggest', 'she', 'carry', '?']\n",
      "#parsing: ['why', 'does', 'England', 'have', 'a', 'king', '?']\n",
      "#parsing: ['are', 'they', 'suggesting', 'Arthur', 'ride', 'to', 'Camelot', '?']\n",
      "#parsing: ['five', 'strangers', 'are', 'at', 'the', 'Round', 'Table', '.']\n",
      "#parsing: ['Guinevere', 'might', 'have', 'known', '.']\n",
      "#parsing: ['Guinevere', 'should', 'be', 'riding', 'with', 'Patsy', '.']\n",
      "#parsing: ['it', 'is', 'Sir', 'Lancelot', 'who', 'knows', 'Zoot', '!']\n",
      "#parsing: ['either', 'Arthur', 'knows', 'or', 'Patsy', 'does', '.']\n",
      "#parsing: ['neither', 'Sir', 'Lancelot', 'nor', 'Guinevere', 'will', 'speak', 'of', 'it', '.']\n",
      "#parsing: ['the', 'Holy', 'Grail', 'was', 'covered', 'by', 'a', 'yellow', 'fruit', '.']\n",
      "#parsing: ['Zoot', 'might', 'have', 'been', 'carried', 'by', 'a', 'swallow', '.']\n",
      "#parsing: ['Arthur', 'rode', 'to', 'Camelot', 'and', 'drank', 'from', 'his', 'chalice', '.']\n",
      "#parsing: ['they', 'migrate', 'precisely', 'because', 'they', 'know', 'they', 'will', 'grow', '.']\n",
      "#parsing: ['do', 'not', 'speak', '!']\n",
      "#parsing: ['Arthur', 'will', 'have', 'been', 'riding', 'for', 'eight', 'nights', '.']\n",
      "#parsing: ['Arthur', ',', 'sixty', 'inches', ',', 'is', 'a', 'tiny', 'king', '.']\n",
      "#parsing: ['Arthur', 'knows', 'Patsy', ',', 'the', 'trusty', 'servant', '.']\n",
      "#parsing: ['Arthur', 'and', 'Guinevere', 'migrate', 'frequently', '.']\n",
      "#parsing: ['he', 'knows', 'what', 'they', 'are', 'covering', 'with', 'that', 'story', '.']\n",
      "#parsing: ['Arthur', 'suggested', 'that', 'the', 'castle', 'be', 'carried', '.']\n",
      "#parsing: ['the', 'king', 'drank', 'to', 'the', 'castle', 'that', 'was', 'his', 'home', '.']\n",
      "#parsing: ['when', 'the', 'king', 'drinks', ',', 'Patsy', 'drinks', '.']\n",
      "#-cross entropy (bits/word): -10.2762\n"
     ]
    }
   ],
   "source": [
    "ce, trees = parser.parse_file('example_sentences.txt')\n",
    "print(\"-cross entropy: {}\".format(ce))"
   ]
  },
  {
   "cell_type": "markdown",
   "metadata": {},
   "source": [
    "## Generating sentences with your grammar\n",
    "\n",
    "While you are developing your grammar you should generate sentences with your grammar\n",
    "to check what your grammar is doing. Try to write your grammars to that it will \n",
    "generate hard to parse sentences."
   ]
  },
  {
   "cell_type": "code",
   "execution_count": 6,
   "metadata": {},
   "outputs": [
    {
     "name": "stderr",
     "output_type": "stream",
     "text": [
      "#reading grammar file: S1.gr\n",
      "#reading grammar file: Vocab.gr\n"
     ]
    }
   ],
   "source": [
    "gen_gram = Pcfg([\"S1.gr\",\"Vocab.gr\"])"
   ]
  },
  {
   "cell_type": "code",
   "execution_count": 7,
   "metadata": {},
   "outputs": [
    {
     "name": "stdout",
     "output_type": "stream",
     "text": [
      "every land carries no chalice .\n",
      "any weight has the winter .\n",
      "this husk is Sir Lancelot .\n",
      "no sun covers the master\n",
      "a weight above another story carries a sovereign .\n",
      "another weight has this swallow\n",
      "this sovereign has this land\n",
      "any chalice drinks no weight\n",
      "that fruit is every sun .\n",
      "another master is a husk .\n",
      "every horse drinks each swallow\n",
      "every swallow has every story .\n",
      "any servant rides another pound\n",
      "the king carries any coconut through a corner .\n",
      "Sir Knight drinks this sovereign\n",
      "each fruit covers each coconut\n",
      "this horse carries any defeater .\n",
      "another home carries a sun\n",
      "every swallow rides a corner\n",
      "another corner carries this master near every defeater\n"
     ]
    }
   ],
   "source": [
    "gen = PcfgGenerator(gen_gram)\n",
    "for _ in range(20):\n",
    "    print(\" \".join(gen.generate()))"
   ]
  },
  {
   "cell_type": "markdown",
   "metadata": {},
   "source": [
    "## NLTK Experimenting (Dillon)"
   ]
  },
  {
   "cell_type": "code",
   "execution_count": 61,
   "metadata": {},
   "outputs": [
    {
     "name": "stdout",
     "output_type": "stream",
     "text": [
      "[nltk_data] Downloading package punkt to\n",
      "[nltk_data]     C:\\Users\\dillo\\AppData\\Roaming\\nltk_data...\n",
      "[nltk_data]   Package punkt is already up-to-date!\n",
      "[nltk_data] Downloading package words to\n",
      "[nltk_data]     C:\\Users\\dillo\\AppData\\Roaming\\nltk_data...\n",
      "[nltk_data]   Package words is already up-to-date!\n",
      "[nltk_data] Downloading package averaged_perceptron_tagger to\n",
      "[nltk_data]     C:\\Users\\dillo\\AppData\\Roaming\\nltk_data...\n",
      "[nltk_data]   Package averaged_perceptron_tagger is already up-to-\n",
      "[nltk_data]       date!\n"
     ]
    },
    {
     "data": {
      "text/plain": [
       "True"
      ]
     },
     "execution_count": 61,
     "metadata": {},
     "output_type": "execute_result"
    }
   ],
   "source": [
    "nltk.download('punkt')\n",
    "nltk.download('words')\n",
    "nltk.download('averaged_perceptron_tagger')"
   ]
  },
  {
   "cell_type": "markdown",
   "metadata": {},
   "source": [
    "#### Tokenize a sentence"
   ]
  },
  {
   "cell_type": "code",
   "execution_count": 60,
   "metadata": {},
   "outputs": [
    {
     "name": "stdout",
     "output_type": "stream",
     "text": [
      "[('Arthur', 'NNP'), ('rides', 'VBZ'), ('the', 'DT'), ('horse', 'NN'), ('near', 'IN'), ('the', 'DT'), ('castle', 'NN'), ('.', '.')]\n"
     ]
    }
   ],
   "source": [
    "sentence = \"Arthur rides the horse near the castle.\"\n",
    "tokens = nltk.word_tokenize(sentence)\n",
    "pos_tags = nltk.pos_tag(tokens)\n",
    "print(pos_tags)"
   ]
  },
  {
   "cell_type": "markdown",
   "metadata": {},
   "source": [
    "#### Read example sentences into a list of sentences"
   ]
  },
  {
   "cell_type": "code",
   "execution_count": 62,
   "metadata": {},
   "outputs": [
    {
     "data": {
      "text/plain": [
       "['Arthur is the king .',\n",
       " 'Arthur rides the horse near the castle .',\n",
       " 'riding to Camelot is hard .',\n",
       " 'do coconuts speak ?',\n",
       " 'what does Arthur ride ?',\n",
       " 'who does Arthur suggest she carry ?',\n",
       " 'why does England have a king ?',\n",
       " 'are they suggesting Arthur ride to Camelot ?',\n",
       " 'five strangers are at the Round Table .',\n",
       " 'Guinevere might have known .',\n",
       " 'Guinevere should be riding with Patsy .',\n",
       " 'it is Sir Lancelot who knows Zoot !',\n",
       " 'either Arthur knows or Patsy does .',\n",
       " 'neither Sir Lancelot nor Guinevere will speak of it .',\n",
       " 'the Holy Grail was covered by a yellow fruit .',\n",
       " 'Zoot might have been carried by a swallow .',\n",
       " 'Arthur rode to Camelot and drank from his chalice .',\n",
       " 'they migrate precisely because they know they will grow .',\n",
       " 'do not speak !',\n",
       " 'Arthur will have been riding for eight nights .',\n",
       " 'Arthur , sixty inches , is a tiny king .',\n",
       " 'Arthur knows Patsy , the trusty servant .',\n",
       " 'Arthur and Guinevere migrate frequently .',\n",
       " 'he knows what they are covering with that story .',\n",
       " 'Arthur suggested that the castle be carried .',\n",
       " 'the king drank to the castle that was his home .',\n",
       " 'when the king drinks , Patsy drinks .']"
      ]
     },
     "execution_count": 62,
     "metadata": {},
     "output_type": "execute_result"
    }
   ],
   "source": [
    "sents = open('example_sentences.txt').read()\n",
    "sents = nltk.sent_tokenize(sents)\n",
    "sents"
   ]
  },
  {
   "cell_type": "markdown",
   "metadata": {},
   "source": [
    "#### Tokenize the list of sentences"
   ]
  },
  {
   "cell_type": "code",
   "execution_count": 67,
   "metadata": {},
   "outputs": [
    {
     "data": {
      "text/plain": [
       "[('Arthur', 'NNP'), ('is', 'VBZ'), ('the', 'DT'), ('king', 'NN'), ('.', '.')]"
      ]
     },
     "execution_count": 67,
     "metadata": {},
     "output_type": "execute_result"
    }
   ],
   "source": [
    "token_sents = []\n",
    "for s in sents:\n",
    "    tokens = nltk.word_tokenize(s)\n",
    "    pos_tags = nltk.pos_tag(tokens)\n",
    "    token_sents.append(pos_tags)\n",
    "token_sents[0]"
   ]
  }
 ],
 "metadata": {
  "kernelspec": {
   "display_name": "Python 3",
   "language": "python",
   "name": "python3"
  },
  "language_info": {
   "codemirror_mode": {
    "name": "ipython",
    "version": 3
   },
   "file_extension": ".py",
   "mimetype": "text/x-python",
   "name": "python",
   "nbconvert_exporter": "python",
   "pygments_lexer": "ipython3",
   "version": "3.6.5"
  }
 },
 "nbformat": 4,
 "nbformat_minor": 2
}
