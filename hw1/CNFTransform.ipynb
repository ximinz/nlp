{
 "cells": [
  {
   "cell_type": "code",
   "execution_count": 7,
   "metadata": {},
   "outputs": [
    {
     "name": "stdout",
     "output_type": "stream",
     "text": [
      "Collapse unary:\n",
      "(TOP\n",
      "  (S\n",
      "    (S+VP\n",
      "      (VBN Turned)\n",
      "      (ADVP (RB loose))\n",
      "      (PP\n",
      "        (IN in)\n",
      "        (NP\n",
      "          (NP (NNP Shane) (NNP Longman) (POS 's))\n",
      "          (NN trading)\n",
      "          (NN room))))\n",
      "    (, ,)\n",
      "    (NP (DT the) (NN yuppie) (NNS dealers))\n",
      "    (VP (AUX do) (NP (NP (RB little)) (ADJP (RB right))))\n",
      "    (. .)))\n",
      "Chomsky normal form:\n",
      "(TOP\n",
      "  (S\n",
      "    (S+VP\n",
      "      (VBN Turned)\n",
      "      (S+VP|<ADVP-PP>\n",
      "        (ADVP (RB loose))\n",
      "        (PP\n",
      "          (IN in)\n",
      "          (NP\n",
      "            (NP (NNP Shane) (NP|<NNP-POS> (NNP Longman) (POS 's)))\n",
      "            (NP|<NN-NN> (NN trading) (NN room))))))\n",
      "    (S|<,-NP-VP-.>\n",
      "      (, ,)\n",
      "      (S|<NP-VP-.>\n",
      "        (NP (DT the) (NP|<NN-NNS> (NN yuppie) (NNS dealers)))\n",
      "        (S|<VP-.>\n",
      "          (VP (AUX do) (NP (NP (RB little)) (ADJP (RB right))))\n",
      "          (. .))))))\n"
     ]
    }
   ],
   "source": [
    "\n",
    "#################################################################\n",
    "# Demonstration\n",
    "#################################################################\n",
    "\n",
    "def demo():\n",
    "    \"\"\"\n",
    "    A demonstration showing how each tree transform can be used.\n",
    "    \"\"\"\n",
    "\n",
    "    from nltk.draw.tree import draw_trees\n",
    "    from nltk import tree, treetransforms\n",
    "    from copy import deepcopy\n",
    "\n",
    "    # original tree from WSJ bracketed text\n",
    "    sentence = \"\"\"(TOP\n",
    "  (S\n",
    "    (S\n",
    "      (VP\n",
    "        (VBN Turned)\n",
    "        (ADVP (RB loose))\n",
    "        (PP\n",
    "          (IN in)\n",
    "          (NP\n",
    "            (NP (NNP Shane) (NNP Longman) (POS 's))\n",
    "            (NN trading)\n",
    "            (NN room)))))\n",
    "    (, ,)\n",
    "    (NP (DT the) (NN yuppie) (NNS dealers))\n",
    "    (VP (AUX do) (NP (NP (RB little)) (ADJP (RB right))))\n",
    "    (. .)))\"\"\"\n",
    "    t = tree.Tree.fromstring(sentence, remove_empty_top_bracketing=True)\n",
    "    print(\"Collapse unary:\")\n",
    "    t.collapse_unary()\n",
    "    print(t)\n",
    "    print(\"Chomsky normal form:\")\n",
    "    t.chomsky_normal_form()\n",
    "    print(t)\n",
    "\n",
    "if __name__ == '__main__':\n",
    "    demo()\n",
    "\n",
    "__all__ = [\"chomsky_normal_form\", \"un_chomsky_normal_form\", \"collapse_unary\"] "
   ]
  },
  {
   "cell_type": "code",
   "execution_count": null,
   "metadata": {},
   "outputs": [],
   "source": []
  }
 ],
 "metadata": {
  "kernelspec": {
   "display_name": "Python 3",
   "language": "python",
   "name": "python3"
  },
  "language_info": {
   "codemirror_mode": {
    "name": "ipython",
    "version": 3
   },
   "file_extension": ".py",
   "mimetype": "text/x-python",
   "name": "python",
   "nbconvert_exporter": "python",
   "pygments_lexer": "ipython3",
   "version": "3.7.0"
  }
 },
 "nbformat": 4,
 "nbformat_minor": 2
}
