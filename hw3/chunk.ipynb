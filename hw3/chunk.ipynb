{
 "cells": [
  {
   "cell_type": "markdown",
   "metadata": {},
   "source": [
    "# Homework: Phrasal Chunking"
   ]
  },
  {
   "cell_type": "markdown",
   "metadata": {},
   "source": [
    "This is your documentation for the chunker homework."
   ]
  },
  {
   "cell_type": "code",
   "execution_count": 13,
   "metadata": {},
   "outputs": [
    {
     "name": "stderr",
     "output_type": "stream",
     "text": [
      "reading data ...\n",
      "done.\n"
     ]
    },
    {
     "name": "stdout",
     "output_type": "stream",
     "text": [
      "wrote model to disk\n"
     ]
    }
   ],
   "source": [
    "import perc\n",
    "import default\n",
    "import sys\n",
    "from collections import defaultdict\n",
    "\n",
    "feat_vec = {}\n",
    "tagset = []\n",
    "train_data = []\n",
    "\n",
    "def weight_change(feat_vec, truth, predicted, feat_list):\n",
    "    index = 0\n",
    "    for i, feature in enumerate(feat_list):\n",
    "        if i != 0 and feat_list[i][0:3] == 'U00':\n",
    "            index += 1\n",
    "        gold_key = (feature, truth[index])\n",
    "        if gold_key in feat_vec:\n",
    "            feat_vec[gold_key] += 1\n",
    "        else:\n",
    "            feat_vec[gold_key] = 1\n",
    "        \n",
    "        bad_key = (feature, predicted[index])\n",
    "        if bad_key in feat_vec:\n",
    "            feat_vec[bad_key] -= 1\n",
    "        \n",
    "        if feat_vec[bad_key] == 0:\n",
    "            feat_vec.pop(bad_key, None)\n",
    "        \n",
    "\n",
    "def perc_train(train_data, tagset, numepochs):\n",
    "    feat_vec = defaultdict(int)\n",
    "    N = len(train_data)\n",
    "    for run in range(numepochs):\n",
    "        for training_number in range(N):\n",
    "            predicted = perc.perc_test(feat_vec, train_data[training_number][0], train_data[training_number][1], tagset, default_tag='B-NP')\n",
    "            truth = [tags.split()[2] for tags in train_data[training_number][0]]\n",
    "            weight_change(feat_vec, truth, predicted, train_data[training_number][1])\n",
    "    return feat_vec\n",
    "\n",
    "tagset = perc.read_tagset(\"data/tagset.txt\")\n",
    "print(\"reading data ...\", file=sys.stderr)\n",
    "train_data = perc.read_labeled_data(\"data/train.txt.gz\", \"data/train.feats.gz\", verbose=False)\n",
    "print(\"done.\", file=sys.stderr)\n",
    "feat_vec = perc_train(train_data, tagset, 10)\n",
    "perc.perc_write_to_file(feat_vec, \"default.model\")\n",
    "print(\"wrote model to disk\")"
   ]
  },
  {
   "cell_type": "code",
   "execution_count": 14,
   "metadata": {},
   "outputs": [
    {
     "name": "stderr",
     "output_type": "stream",
     "text": [
      "reading test data ...\n",
      "done.\n"
     ]
    }
   ],
   "source": [
    "%%capture --no-stderr output\n",
    "print(\"reading test data ...\", file=sys.stderr)\n",
    "test_data = perc.read_labeled_data(\"data/dev.txt\", \"data/dev.feats\", verbose=False)\n",
    "print(\"done.\", file=sys.stderr)\n",
    "feat_vec = perc.perc_read_from_file(\"default.model\")\n",
    "perc.perc_testall(feat_vec, test_data, tagset)"
   ]
  },
  {
   "cell_type": "code",
   "execution_count": 15,
   "metadata": {},
   "outputs": [
    {
     "name": "stdout",
     "output_type": "stream",
     "text": [
      "processed 500 sentences with 10375 tokens and 5783 phrases; found phrases: 5836; correct phrases: 5274\n",
      "             ADJP: precision:  59.29%; recall:  67.68%; F1:  63.21; found:    113; correct:     99\n",
      "             ADVP: precision:  69.86%; recall:  72.28%; F1:  71.05; found:    209; correct:    202\n",
      "            CONJP: precision:   0.00%; recall:   0.00%; F1:   0.00; found:      5; correct:      5\n",
      "             INTJ: precision:   0.00%; recall:   0.00%; F1:   0.00; found:      0; correct:      1\n",
      "               NP: precision:  91.20%; recall:  91.84%; F1:  91.52; found:   3047; correct:   3026\n",
      "               PP: precision:  96.24%; recall:  96.31%; F1:  96.28; found:   1222; correct:   1221\n",
      "              PRT: precision:  80.00%; recall:  54.55%; F1:  64.86; found:     15; correct:     22\n",
      "             SBAR: precision:  71.77%; recall:  83.18%; F1:  77.06; found:    124; correct:    107\n",
      "               VP: precision:  91.28%; recall:  91.36%; F1:  91.32; found:   1101; correct:   1100\n",
      "accuracy:  94.18%; precision:  90.37%; recall:  91.20%; F1:  90.78\n",
      "Score: 90.78\n"
     ]
    }
   ],
   "source": [
    "import score_chunks\n",
    "boundary = \"-X-\" # something to use as boundary between sentences\n",
    "outside = \"O\" # tag used to mark the outside of any chunk\n",
    "conlleval = False # use conlleval (should be False for most use cases)\n",
    "numfeats = 2 # number of columns to consider as features, typically \"word POStag\"\n",
    "(test, _) = score_chunks.readTestFile(str(output), boundary, outside, conlleval, numfeats)\n",
    "with open(\"data/reference500.txt\") as f:\n",
    "    (reference, _) = score_chunks.readTestFile(f.read(), boundary, outside, conlleval, numfeats)\n",
    "print(\"Score: %.2f\" % score_chunks.corpus_fmeasure(reference, test, False))"
   ]
  },
  {
   "cell_type": "code",
   "execution_count": null,
   "metadata": {},
   "outputs": [],
   "source": []
  }
 ],
 "metadata": {
  "kernelspec": {
   "display_name": "Python 3",
   "language": "python",
   "name": "python3"
  },
  "language_info": {
   "codemirror_mode": {
    "name": "ipython",
    "version": 3
   },
   "file_extension": ".py",
   "mimetype": "text/x-python",
   "name": "python",
   "nbconvert_exporter": "python",
   "pygments_lexer": "ipython3",
   "version": "3.7.0"
  }
 },
 "nbformat": 4,
 "nbformat_minor": 2
}
